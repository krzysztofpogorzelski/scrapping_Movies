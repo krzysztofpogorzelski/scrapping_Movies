{
 "cells": [
  {
   "cell_type": "markdown",
   "id": "561b0515",
   "metadata": {},
   "source": [
    "# IMDb Top 250 Movies"
   ]
  },
  {
   "cell_type": "code",
   "execution_count": 40,
   "id": "ea3055d4",
   "metadata": {},
   "outputs": [],
   "source": [
    "import pandas as pd"
   ]
  },
  {
   "cell_type": "code",
   "execution_count": 41,
   "id": "4f10dbde",
   "metadata": {},
   "outputs": [
    {
     "data": {
      "text/plain": [
       "1"
      ]
     },
     "execution_count": 41,
     "metadata": {},
     "output_type": "execute_result"
    }
   ],
   "source": [
    "df_film_list=pd.read_html(\"https://www.imdb.com/chart/top\")#downloading data from www and saving as list-readhtml method\n",
    "len(df_film_list)"
   ]
  },
  {
   "cell_type": "code",
   "execution_count": 42,
   "id": "d62b6a95",
   "metadata": {},
   "outputs": [
    {
     "data": {
      "text/html": [
       "<div>\n",
       "<style scoped>\n",
       "    .dataframe tbody tr th:only-of-type {\n",
       "        vertical-align: middle;\n",
       "    }\n",
       "\n",
       "    .dataframe tbody tr th {\n",
       "        vertical-align: top;\n",
       "    }\n",
       "\n",
       "    .dataframe thead th {\n",
       "        text-align: right;\n",
       "    }\n",
       "</style>\n",
       "<table border=\"1\" class=\"dataframe\">\n",
       "  <thead>\n",
       "    <tr style=\"text-align: right;\">\n",
       "      <th></th>\n",
       "      <th>Unnamed: 0</th>\n",
       "      <th>Rank &amp; Title</th>\n",
       "      <th>IMDb Rating</th>\n",
       "      <th>Your Rating</th>\n",
       "      <th>Unnamed: 4</th>\n",
       "    </tr>\n",
       "  </thead>\n",
       "  <tbody>\n",
       "    <tr>\n",
       "      <th>0</th>\n",
       "      <td>NaN</td>\n",
       "      <td>1.  Skazani na Shawshank  (1994)</td>\n",
       "      <td>9.2</td>\n",
       "      <td>12345678910 NOT YET RELEASED  Seen</td>\n",
       "      <td>NaN</td>\n",
       "    </tr>\n",
       "    <tr>\n",
       "      <th>1</th>\n",
       "      <td>NaN</td>\n",
       "      <td>2.  Ojciec chrzestny  (1972)</td>\n",
       "      <td>9.2</td>\n",
       "      <td>12345678910 NOT YET RELEASED  Seen</td>\n",
       "      <td>NaN</td>\n",
       "    </tr>\n",
       "    <tr>\n",
       "      <th>2</th>\n",
       "      <td>NaN</td>\n",
       "      <td>3.  Mroczny Rycerz  (2008)</td>\n",
       "      <td>9.0</td>\n",
       "      <td>12345678910 NOT YET RELEASED  Seen</td>\n",
       "      <td>NaN</td>\n",
       "    </tr>\n",
       "    <tr>\n",
       "      <th>3</th>\n",
       "      <td>NaN</td>\n",
       "      <td>4.  Ojciec chrzestny II  (1974)</td>\n",
       "      <td>9.0</td>\n",
       "      <td>12345678910 NOT YET RELEASED  Seen</td>\n",
       "      <td>NaN</td>\n",
       "    </tr>\n",
       "    <tr>\n",
       "      <th>4</th>\n",
       "      <td>NaN</td>\n",
       "      <td>5.  Dwunastu gniewnych ludzi  (1957)</td>\n",
       "      <td>8.9</td>\n",
       "      <td>12345678910 NOT YET RELEASED  Seen</td>\n",
       "      <td>NaN</td>\n",
       "    </tr>\n",
       "    <tr>\n",
       "      <th>...</th>\n",
       "      <td>...</td>\n",
       "      <td>...</td>\n",
       "      <td>...</td>\n",
       "      <td>...</td>\n",
       "      <td>...</td>\n",
       "    </tr>\n",
       "    <tr>\n",
       "      <th>245</th>\n",
       "      <td>NaN</td>\n",
       "      <td>246.  Dersu Uzała  (1975)</td>\n",
       "      <td>8.0</td>\n",
       "      <td>12345678910 NOT YET RELEASED  Seen</td>\n",
       "      <td>NaN</td>\n",
       "    </tr>\n",
       "    <tr>\n",
       "      <th>246</th>\n",
       "      <td>NaN</td>\n",
       "      <td>247.  Aladyn  (1992)</td>\n",
       "      <td>8.0</td>\n",
       "      <td>12345678910 NOT YET RELEASED  Seen</td>\n",
       "      <td>NaN</td>\n",
       "    </tr>\n",
       "    <tr>\n",
       "      <th>247</th>\n",
       "      <td>NaN</td>\n",
       "      <td>248.  Gandhi  (1982)</td>\n",
       "      <td>8.0</td>\n",
       "      <td>12345678910 NOT YET RELEASED  Seen</td>\n",
       "      <td>NaN</td>\n",
       "    </tr>\n",
       "    <tr>\n",
       "      <th>248</th>\n",
       "      <td>NaN</td>\n",
       "      <td>249.  Służące  (2011)</td>\n",
       "      <td>8.0</td>\n",
       "      <td>12345678910 NOT YET RELEASED  Seen</td>\n",
       "      <td>NaN</td>\n",
       "    </tr>\n",
       "    <tr>\n",
       "      <th>249</th>\n",
       "      <td>NaN</td>\n",
       "      <td>250.  Stalowy gigant  (1999)</td>\n",
       "      <td>8.0</td>\n",
       "      <td>12345678910 NOT YET RELEASED  Seen</td>\n",
       "      <td>NaN</td>\n",
       "    </tr>\n",
       "  </tbody>\n",
       "</table>\n",
       "<p>250 rows × 5 columns</p>\n",
       "</div>"
      ],
      "text/plain": [
       "     Unnamed: 0                          Rank & Title  IMDb Rating  \\\n",
       "0           NaN      1.  Skazani na Shawshank  (1994)          9.2   \n",
       "1           NaN          2.  Ojciec chrzestny  (1972)          9.2   \n",
       "2           NaN            3.  Mroczny Rycerz  (2008)          9.0   \n",
       "3           NaN       4.  Ojciec chrzestny II  (1974)          9.0   \n",
       "4           NaN  5.  Dwunastu gniewnych ludzi  (1957)          8.9   \n",
       "..          ...                                   ...          ...   \n",
       "245         NaN             246.  Dersu Uzała  (1975)          8.0   \n",
       "246         NaN                  247.  Aladyn  (1992)          8.0   \n",
       "247         NaN                  248.  Gandhi  (1982)          8.0   \n",
       "248         NaN                 249.  Służące  (2011)          8.0   \n",
       "249         NaN          250.  Stalowy gigant  (1999)          8.0   \n",
       "\n",
       "                            Your Rating  Unnamed: 4  \n",
       "0    12345678910 NOT YET RELEASED  Seen         NaN  \n",
       "1    12345678910 NOT YET RELEASED  Seen         NaN  \n",
       "2    12345678910 NOT YET RELEASED  Seen         NaN  \n",
       "3    12345678910 NOT YET RELEASED  Seen         NaN  \n",
       "4    12345678910 NOT YET RELEASED  Seen         NaN  \n",
       "..                                  ...         ...  \n",
       "245  12345678910 NOT YET RELEASED  Seen         NaN  \n",
       "246  12345678910 NOT YET RELEASED  Seen         NaN  \n",
       "247  12345678910 NOT YET RELEASED  Seen         NaN  \n",
       "248  12345678910 NOT YET RELEASED  Seen         NaN  \n",
       "249  12345678910 NOT YET RELEASED  Seen         NaN  \n",
       "\n",
       "[250 rows x 5 columns]"
      ]
     },
     "execution_count": 42,
     "metadata": {},
     "output_type": "execute_result"
    }
   ],
   "source": [
    "df_film_list[0]"
   ]
  },
  {
   "cell_type": "markdown",
   "id": "790bf729",
   "metadata": {},
   "source": [
    "## beautifull soup and lxml library instaling"
   ]
  },
  {
   "cell_type": "code",
   "execution_count": 43,
   "id": "a3edddda",
   "metadata": {},
   "outputs": [
    {
     "name": "stdout",
     "output_type": "stream",
     "text": [
      "Requirement already satisfied: bs4 in c:\\users\\biuro\\anaconda3\\lib\\site-packages (0.0.1)\n",
      "Requirement already satisfied: lxml in c:\\users\\biuro\\anaconda3\\lib\\site-packages (4.6.3)\n",
      "Requirement already satisfied: beautifulsoup4 in c:\\users\\biuro\\anaconda3\\lib\\site-packages (from bs4) (4.10.0)\n",
      "Requirement already satisfied: soupsieve>1.2 in c:\\users\\biuro\\anaconda3\\lib\\site-packages (from beautifulsoup4->bs4) (2.2.1)\n"
     ]
    }
   ],
   "source": [
    "!pip install bs4 lxml"
   ]
  },
  {
   "cell_type": "code",
   "execution_count": 44,
   "id": "1e254080",
   "metadata": {},
   "outputs": [],
   "source": [
    "import bs4\n",
    "import requests"
   ]
  },
  {
   "cell_type": "code",
   "execution_count": 45,
   "id": "3c516b5a",
   "metadata": {},
   "outputs": [],
   "source": [
    "import requests\n",
    "\n",
    "cookies = {\n",
    "    'session-id': '144-2749664-5747925',\n",
    "    'session-id-time': '2082787201l',\n",
    "    'csm-hit': 'tb:7TSKYFGYXAVK42FANVPF+s-VY5AM2WSVN7E5TCB3TDZ|1664432430631&t:1664432430631&adb:adblk_no',\n",
    "    'ubid-main': '133-9067747-5858961',\n",
    "    'uu': 'eyJpZCI6InV1ZDYwOTgzNjIwZTc3NDRmMzg1ZWMiLCJwcmVmZXJlbmNlcyI6eyJmaW5kX2luY2x1ZGVfYWR1bHQiOmZhbHNlfX0=',\n",
    "    'session-token': 'PMyAzTzUUjCMBg0EadpVwPtGdsscqry58BPRU+x9cch4emebLE0BDX18sCfPZ0USkWkT2L8T+EZw9WVIIA+pNeAyCDuF5QcYu4ZVMmEYXv/5PIZ1tWudUO+VcMzNbJdUFEQ//iQOyj6agdCRt/Rdt8SGnbeDtodrOfl2A1ZeWUlrQ+h7W5uDNfvb87z7jeiOGwemfgXFTTXxte5NFKImN00lm+bfsJVA',\n",
    "    'adblk': 'adblk_no',\n",
    "    'as': '%7B%22n%22%3A%7B%22t%22%3A%5B0%2C0%5D%2C%22tr%22%3A%5B0%2C0%5D%2C%22in%22%3A%5B0%2C0%5D%2C%22ib%22%3A%5B0%2C0%5D%7D%7D',\n",
    "}\n",
    "\n",
    "headers = {\n",
    "    'User-Agent': 'Mozilla/5.0 (Windows NT 10.0; Win64; x64; rv:105.0) Gecko/20100101 Firefox/105.0',\n",
    "    'Accept': 'text/html,application/xhtml+xml,application/xml;q=0.9,image/avif,image/webp,*/*;q=0.8',\n",
    "    'Accept-Language': 'pl,en-US;q=0.7,en;q=0.3',\n",
    "    # 'Accept-Encoding': 'gzip, deflate, br',\n",
    "    'Alt-Used': 'www.imdb.com',\n",
    "    'Connection': 'keep-alive',\n",
    "    # Requests sorts cookies= alphabetically\n",
    "    # 'Cookie': 'session-id=144-2749664-5747925; session-id-time=2082787201l; csm-hit=tb:7TSKYFGYXAVK42FANVPF+s-VY5AM2WSVN7E5TCB3TDZ|1664432430631&t:1664432430631&adb:adblk_no; ubid-main=133-9067747-5858961; uu=eyJpZCI6InV1ZDYwOTgzNjIwZTc3NDRmMzg1ZWMiLCJwcmVmZXJlbmNlcyI6eyJmaW5kX2luY2x1ZGVfYWR1bHQiOmZhbHNlfX0=; session-token=PMyAzTzUUjCMBg0EadpVwPtGdsscqry58BPRU+x9cch4emebLE0BDX18sCfPZ0USkWkT2L8T+EZw9WVIIA+pNeAyCDuF5QcYu4ZVMmEYXv/5PIZ1tWudUO+VcMzNbJdUFEQ//iQOyj6agdCRt/Rdt8SGnbeDtodrOfl2A1ZeWUlrQ+h7W5uDNfvb87z7jeiOGwemfgXFTTXxte5NFKImN00lm+bfsJVA; adblk=adblk_no; as=%7B%22n%22%3A%7B%22t%22%3A%5B0%2C0%5D%2C%22tr%22%3A%5B0%2C0%5D%2C%22in%22%3A%5B0%2C0%5D%2C%22ib%22%3A%5B0%2C0%5D%7D%7D',\n",
    "    'Upgrade-Insecure-Requests': '1',\n",
    "    'Sec-Fetch-Dest': 'document',\n",
    "    'Sec-Fetch-Mode': 'navigate',\n",
    "    'Sec-Fetch-Site': 'cross-site',\n",
    "}\n",
    "\n",
    "response = requests.get('https://www.imdb.com/chart/top', cookies=cookies, headers=headers)"
   ]
  },
  {
   "cell_type": "code",
   "execution_count": 46,
   "id": "34d60f98",
   "metadata": {},
   "outputs": [
    {
     "data": {
      "text/plain": [
       "requests.models.Response"
      ]
     },
     "execution_count": 46,
     "metadata": {},
     "output_type": "execute_result"
    }
   ],
   "source": [
    "type(response)"
   ]
  },
  {
   "cell_type": "code",
   "execution_count": 47,
   "id": "9d6b5622",
   "metadata": {},
   "outputs": [
    {
     "data": {
      "text/plain": [
       "200"
      ]
     },
     "execution_count": 47,
     "metadata": {},
     "output_type": "execute_result"
    }
   ],
   "source": [
    "response.status_code #should be 200, 400-little problems, 500-big problems"
   ]
  },
  {
   "cell_type": "code",
   "execution_count": 48,
   "id": "ea32ee19",
   "metadata": {},
   "outputs": [],
   "source": [
    "#response.text #html as text"
   ]
  },
  {
   "cell_type": "code",
   "execution_count": 49,
   "id": "d2a5d901",
   "metadata": {},
   "outputs": [],
   "source": [
    "html_data = bs4.BeautifulSoup(response.text)\n",
    "#html_data"
   ]
  },
  {
   "cell_type": "code",
   "execution_count": 50,
   "id": "1d68c9bc",
   "metadata": {},
   "outputs": [],
   "source": [
    "tbody=html_data.find(\"tbody\", class_=\"lister-list\")#looking for listerlist in code by tbody-main table\n",
    "#tbody"
   ]
  },
  {
   "cell_type": "code",
   "execution_count": 51,
   "id": "372a02dd",
   "metadata": {},
   "outputs": [],
   "source": [
    "rows=tbody.find_all(\"tr\")#findall is looking for rows tr i saves as list"
   ]
  },
  {
   "cell_type": "code",
   "execution_count": 52,
   "id": "bafc507b",
   "metadata": {},
   "outputs": [],
   "source": [
    "#rows"
   ]
  },
  {
   "cell_type": "code",
   "execution_count": 53,
   "id": "97d3cff9",
   "metadata": {},
   "outputs": [
    {
     "data": {
      "text/plain": [
       "250"
      ]
     },
     "execution_count": 53,
     "metadata": {},
     "output_type": "execute_result"
    }
   ],
   "source": [
    "len(rows) #checking len of list, number of films"
   ]
  },
  {
   "cell_type": "code",
   "execution_count": 54,
   "id": "1b157679",
   "metadata": {},
   "outputs": [
    {
     "data": {
      "text/plain": [
       "<tr>\n",
       "<td class=\"posterColumn\">\n",
       "<span data-value=\"1\" name=\"rk\"></span>\n",
       "<span data-value=\"9.234737469237281\" name=\"ir\"></span>\n",
       "<span data-value=\"7.791552E11\" name=\"us\"></span>\n",
       "<span data-value=\"2644821\" name=\"nv\"></span>\n",
       "<span data-value=\"-1.765262530762719\" name=\"ur\"></span>\n",
       "<a href=\"/title/tt0111161/?pf_rd_m=A2FGELUUNOQJNL&amp;pf_rd_p=1a264172-ae11-42e4-8ef7-7fed1973bb8f&amp;pf_rd_r=C3GWSH7ZPJ7B14AXRFMZ&amp;pf_rd_s=center-1&amp;pf_rd_t=15506&amp;pf_rd_i=top&amp;ref_=chttp_tt_1\"> <img alt=\"Skazani na Shawshank\" height=\"67\" src=\"https://m.media-amazon.com/images/M/MV5BMDFkYTc0MGEtZmNhMC00ZDIzLWFmNTEtODM1ZmRlYWMwMWFmXkEyXkFqcGdeQXVyMTMxODk2OTU@._V1_UY67_CR0,0,45,67_AL_.jpg\" width=\"45\"/>\n",
       "</a> </td>\n",
       "<td class=\"titleColumn\">\n",
       "      1.\n",
       "      <a href=\"/title/tt0111161/?pf_rd_m=A2FGELUUNOQJNL&amp;pf_rd_p=1a264172-ae11-42e4-8ef7-7fed1973bb8f&amp;pf_rd_r=C3GWSH7ZPJ7B14AXRFMZ&amp;pf_rd_s=center-1&amp;pf_rd_t=15506&amp;pf_rd_i=top&amp;ref_=chttp_tt_1\" title=\"Frank Darabont (dir.), Tim Robbins, Morgan Freeman\">Skazani na Shawshank</a>\n",
       "<span class=\"secondaryInfo\">(1994)</span>\n",
       "</td>\n",
       "<td class=\"ratingColumn imdbRating\">\n",
       "<strong title=\"9,2 based on 2 644 821 user ratings\">9,2</strong>\n",
       "</td>\n",
       "<td class=\"ratingColumn\">\n",
       "<div class=\"seen-widget seen-widget-tt0111161 pending\" data-titleid=\"tt0111161\">\n",
       "<div class=\"boundary\">\n",
       "<div class=\"popover\">\n",
       "<span class=\"delete\"> </span><ol><li>1</li><li>2</li><li>3</li><li>4</li><li>5</li><li>6</li><li>7</li><li>8</li><li>9</li><li>10</li></ol> </div>\n",
       "</div>\n",
       "<div class=\"inline\">\n",
       "<div class=\"pending\"></div>\n",
       "<div class=\"unseeable\">NOT YET RELEASED</div>\n",
       "<div class=\"unseen\"> </div>\n",
       "<div class=\"rating\"></div>\n",
       "<div class=\"seen\">Seen</div>\n",
       "</div>\n",
       "</div>\n",
       "</td>\n",
       "<td class=\"watchlistColumn\">\n",
       "<div class=\"wlb_ribbon\" data-recordmetrics=\"true\" data-tconst=\"tt0111161\"></div>\n",
       "</td>\n",
       "</tr>"
      ]
     },
     "execution_count": 54,
     "metadata": {},
     "output_type": "execute_result"
    }
   ],
   "source": [
    "rows[0]"
   ]
  },
  {
   "cell_type": "markdown",
   "id": "48176047",
   "metadata": {},
   "source": [
    "### ranking"
   ]
  },
  {
   "cell_type": "code",
   "execution_count": 55,
   "id": "a0a5ddbb",
   "metadata": {},
   "outputs": [
    {
     "data": {
      "text/plain": [
       "<span data-value=\"1\" name=\"rk\"></span>"
      ]
     },
     "execution_count": 55,
     "metadata": {},
     "output_type": "execute_result"
    }
   ],
   "source": [
    "rows[0].find(\"span\")"
   ]
  },
  {
   "cell_type": "code",
   "execution_count": 56,
   "id": "c52b3db7",
   "metadata": {},
   "outputs": [
    {
     "data": {
      "text/plain": [
       "'1'"
      ]
     },
     "execution_count": 56,
     "metadata": {},
     "output_type": "execute_result"
    }
   ],
   "source": [
    "rows[0].find(\"span\").get(\"data-value\") "
   ]
  },
  {
   "cell_type": "markdown",
   "id": "02b0534c",
   "metadata": {},
   "source": [
    "### rating"
   ]
  },
  {
   "cell_type": "code",
   "execution_count": 57,
   "id": "5b53f9fc",
   "metadata": {},
   "outputs": [
    {
     "data": {
      "text/plain": [
       "[<span data-value=\"1\" name=\"rk\"></span>,\n",
       " <span data-value=\"9.234737469237281\" name=\"ir\"></span>,\n",
       " <span data-value=\"7.791552E11\" name=\"us\"></span>,\n",
       " <span data-value=\"2644821\" name=\"nv\"></span>,\n",
       " <span data-value=\"-1.765262530762719\" name=\"ur\"></span>,\n",
       " <span class=\"secondaryInfo\">(1994)</span>,\n",
       " <span class=\"delete\"> </span>]"
      ]
     },
     "execution_count": 57,
     "metadata": {},
     "output_type": "execute_result"
    }
   ],
   "source": [
    "rows[0].find_all(\"span\")"
   ]
  },
  {
   "cell_type": "code",
   "execution_count": 58,
   "id": "35234b79",
   "metadata": {},
   "outputs": [
    {
     "data": {
      "text/plain": [
       "<span data-value=\"9.234737469237281\" name=\"ir\"></span>"
      ]
     },
     "execution_count": 58,
     "metadata": {},
     "output_type": "execute_result"
    }
   ],
   "source": [
    "rows[0].find_all(\"span\")[1]"
   ]
  },
  {
   "cell_type": "code",
   "execution_count": 59,
   "id": "7c970ad8",
   "metadata": {},
   "outputs": [
    {
     "data": {
      "text/plain": [
       "'9.234737469237281'"
      ]
     },
     "execution_count": 59,
     "metadata": {},
     "output_type": "execute_result"
    }
   ],
   "source": [
    "rows[0].find_all(\"span\")[1].get(\"data-value\")"
   ]
  },
  {
   "cell_type": "markdown",
   "id": "afc454f8",
   "metadata": {},
   "source": [
    "### title"
   ]
  },
  {
   "cell_type": "code",
   "execution_count": 60,
   "id": "451cb51b",
   "metadata": {},
   "outputs": [
    {
     "data": {
      "text/plain": [
       "<td class=\"titleColumn\">\n",
       "      1.\n",
       "      <a href=\"/title/tt0111161/?pf_rd_m=A2FGELUUNOQJNL&amp;pf_rd_p=1a264172-ae11-42e4-8ef7-7fed1973bb8f&amp;pf_rd_r=C3GWSH7ZPJ7B14AXRFMZ&amp;pf_rd_s=center-1&amp;pf_rd_t=15506&amp;pf_rd_i=top&amp;ref_=chttp_tt_1\" title=\"Frank Darabont (dir.), Tim Robbins, Morgan Freeman\">Skazani na Shawshank</a>\n",
       "<span class=\"secondaryInfo\">(1994)</span>\n",
       "</td>"
      ]
     },
     "execution_count": 60,
     "metadata": {},
     "output_type": "execute_result"
    }
   ],
   "source": [
    "rows[0].find(\"td\", class_=\"titleColumn\")"
   ]
  },
  {
   "cell_type": "code",
   "execution_count": 61,
   "id": "1350362e",
   "metadata": {},
   "outputs": [
    {
     "data": {
      "text/plain": [
       "<a href=\"/title/tt0111161/?pf_rd_m=A2FGELUUNOQJNL&amp;pf_rd_p=1a264172-ae11-42e4-8ef7-7fed1973bb8f&amp;pf_rd_r=C3GWSH7ZPJ7B14AXRFMZ&amp;pf_rd_s=center-1&amp;pf_rd_t=15506&amp;pf_rd_i=top&amp;ref_=chttp_tt_1\" title=\"Frank Darabont (dir.), Tim Robbins, Morgan Freeman\">Skazani na Shawshank</a>"
      ]
     },
     "execution_count": 61,
     "metadata": {},
     "output_type": "execute_result"
    }
   ],
   "source": [
    "rows[0].find(\"td\", class_=\"titleColumn\").find(\"a\")"
   ]
  },
  {
   "cell_type": "code",
   "execution_count": 62,
   "id": "f196f504",
   "metadata": {},
   "outputs": [
    {
     "data": {
      "text/plain": [
       "'Skazani na Shawshank'"
      ]
     },
     "execution_count": 62,
     "metadata": {},
     "output_type": "execute_result"
    }
   ],
   "source": [
    "rows[0].find(\"td\", class_=\"titleColumn\").find(\"a\").text.strip()"
   ]
  },
  {
   "cell_type": "markdown",
   "id": "44226d70",
   "metadata": {},
   "source": [
    "### year"
   ]
  },
  {
   "cell_type": "code",
   "execution_count": 63,
   "id": "1b67e166",
   "metadata": {},
   "outputs": [
    {
     "data": {
      "text/plain": [
       "<td class=\"titleColumn\">\n",
       "      1.\n",
       "      <a href=\"/title/tt0111161/?pf_rd_m=A2FGELUUNOQJNL&amp;pf_rd_p=1a264172-ae11-42e4-8ef7-7fed1973bb8f&amp;pf_rd_r=C3GWSH7ZPJ7B14AXRFMZ&amp;pf_rd_s=center-1&amp;pf_rd_t=15506&amp;pf_rd_i=top&amp;ref_=chttp_tt_1\" title=\"Frank Darabont (dir.), Tim Robbins, Morgan Freeman\">Skazani na Shawshank</a>\n",
       "<span class=\"secondaryInfo\">(1994)</span>\n",
       "</td>"
      ]
     },
     "execution_count": 63,
     "metadata": {},
     "output_type": "execute_result"
    }
   ],
   "source": [
    "rows[0].find(\"td\", class_=\"titleColumn\")"
   ]
  },
  {
   "cell_type": "code",
   "execution_count": 64,
   "id": "99d4573b",
   "metadata": {},
   "outputs": [
    {
     "data": {
      "text/plain": [
       "<span class=\"secondaryInfo\">(1994)</span>"
      ]
     },
     "execution_count": 64,
     "metadata": {},
     "output_type": "execute_result"
    }
   ],
   "source": [
    "rows[0].find(\"td\", class_=\"titleColumn\").find(\"span\", class_=\"secondaryInfo\")"
   ]
  },
  {
   "cell_type": "code",
   "execution_count": 65,
   "id": "7742220c",
   "metadata": {},
   "outputs": [
    {
     "data": {
      "text/plain": [
       "'(1994)'"
      ]
     },
     "execution_count": 65,
     "metadata": {},
     "output_type": "execute_result"
    }
   ],
   "source": [
    "rows[0].find(\"td\", class_=\"titleColumn\").find(\"span\", class_=\"secondaryInfo\").text.strip()"
   ]
  },
  {
   "cell_type": "code",
   "execution_count": 66,
   "id": "bd11b9de",
   "metadata": {},
   "outputs": [
    {
     "data": {
      "text/plain": [
       "'1994'"
      ]
     },
     "execution_count": 66,
     "metadata": {},
     "output_type": "execute_result"
    }
   ],
   "source": [
    "rows[0].find(\"td\", class_=\"titleColumn\").find(\"span\", class_=\"secondaryInfo\").text.strip()[1:-1]"
   ]
  },
  {
   "cell_type": "markdown",
   "id": "83cacd42",
   "metadata": {},
   "source": [
    "### www site"
   ]
  },
  {
   "cell_type": "code",
   "execution_count": 67,
   "id": "b2dbd5f1",
   "metadata": {},
   "outputs": [
    {
     "data": {
      "text/plain": [
       "<td class=\"titleColumn\">\n",
       "      1.\n",
       "      <a href=\"/title/tt0111161/?pf_rd_m=A2FGELUUNOQJNL&amp;pf_rd_p=1a264172-ae11-42e4-8ef7-7fed1973bb8f&amp;pf_rd_r=C3GWSH7ZPJ7B14AXRFMZ&amp;pf_rd_s=center-1&amp;pf_rd_t=15506&amp;pf_rd_i=top&amp;ref_=chttp_tt_1\" title=\"Frank Darabont (dir.), Tim Robbins, Morgan Freeman\">Skazani na Shawshank</a>\n",
       "<span class=\"secondaryInfo\">(1994)</span>\n",
       "</td>"
      ]
     },
     "execution_count": 67,
     "metadata": {},
     "output_type": "execute_result"
    }
   ],
   "source": [
    "rows[0].find(\"td\", class_=\"titleColumn\")"
   ]
  },
  {
   "cell_type": "code",
   "execution_count": 68,
   "id": "64227281",
   "metadata": {},
   "outputs": [
    {
     "data": {
      "text/plain": [
       "<a href=\"/title/tt0111161/?pf_rd_m=A2FGELUUNOQJNL&amp;pf_rd_p=1a264172-ae11-42e4-8ef7-7fed1973bb8f&amp;pf_rd_r=C3GWSH7ZPJ7B14AXRFMZ&amp;pf_rd_s=center-1&amp;pf_rd_t=15506&amp;pf_rd_i=top&amp;ref_=chttp_tt_1\" title=\"Frank Darabont (dir.), Tim Robbins, Morgan Freeman\">Skazani na Shawshank</a>"
      ]
     },
     "execution_count": 68,
     "metadata": {},
     "output_type": "execute_result"
    }
   ],
   "source": [
    "rows[0].find(\"td\", class_=\"titleColumn\").find(\"a\")"
   ]
  },
  {
   "cell_type": "code",
   "execution_count": 69,
   "id": "5455d36f",
   "metadata": {},
   "outputs": [
    {
     "data": {
      "text/plain": [
       "'/title/tt0111161/?pf_rd_m=A2FGELUUNOQJNL&pf_rd_p=1a264172-ae11-42e4-8ef7-7fed1973bb8f&pf_rd_r=C3GWSH7ZPJ7B14AXRFMZ&pf_rd_s=center-1&pf_rd_t=15506&pf_rd_i=top&ref_=chttp_tt_1'"
      ]
     },
     "execution_count": 69,
     "metadata": {},
     "output_type": "execute_result"
    }
   ],
   "source": [
    "rows[0].find(\"td\", class_=\"titleColumn\").find(\"a\").get(\"href\")"
   ]
  },
  {
   "cell_type": "code",
   "execution_count": 70,
   "id": "2efa19f3",
   "metadata": {},
   "outputs": [
    {
     "data": {
      "text/plain": [
       "'http://imdb.com/title/tt0111161/?pf_rd_m=A2FGELUUNOQJNL&pf_rd_p=1a264172-ae11-42e4-8ef7-7fed1973bb8f&pf_rd_r=C3GWSH7ZPJ7B14AXRFMZ&pf_rd_s=center-1&pf_rd_t=15506&pf_rd_i=top&ref_=chttp_tt_1'"
      ]
     },
     "execution_count": 70,
     "metadata": {},
     "output_type": "execute_result"
    }
   ],
   "source": [
    "\"http://imdb.com\"+rows[0].find(\"td\", class_=\"titleColumn\").find(\"a\").get(\"href\")"
   ]
  },
  {
   "cell_type": "markdown",
   "id": "e44f3c5b",
   "metadata": {},
   "source": [
    "### no of users"
   ]
  },
  {
   "cell_type": "code",
   "execution_count": 71,
   "id": "4b2c919d",
   "metadata": {},
   "outputs": [
    {
     "data": {
      "text/plain": [
       "<td class=\"ratingColumn imdbRating\">\n",
       "<strong title=\"9,2 based on 2 644 821 user ratings\">9,2</strong>\n",
       "</td>"
      ]
     },
     "execution_count": 71,
     "metadata": {},
     "output_type": "execute_result"
    }
   ],
   "source": [
    "rows[0].find(\"td\", class_=\"ratingColumn\")"
   ]
  },
  {
   "cell_type": "code",
   "execution_count": 72,
   "id": "aa7b9b2f",
   "metadata": {},
   "outputs": [
    {
     "data": {
      "text/plain": [
       "<strong title=\"9,2 based on 2 644 821 user ratings\">9,2</strong>"
      ]
     },
     "execution_count": 72,
     "metadata": {},
     "output_type": "execute_result"
    }
   ],
   "source": [
    "rows[0].find(\"td\", class_=\"ratingColumn\").find(\"strong\")"
   ]
  },
  {
   "cell_type": "code",
   "execution_count": 73,
   "id": "29ec9b60",
   "metadata": {},
   "outputs": [
    {
     "data": {
      "text/plain": [
       "'9,2 based on 2\\xa0644\\xa0821 user ratings'"
      ]
     },
     "execution_count": 73,
     "metadata": {},
     "output_type": "execute_result"
    }
   ],
   "source": [
    "rows[0].find(\"td\", class_=\"ratingColumn\").find(\"strong\").get(\"title\")"
   ]
  },
  {
   "cell_type": "code",
   "execution_count": 74,
   "id": "e7e5a610",
   "metadata": {},
   "outputs": [
    {
     "data": {
      "text/plain": [
       "['9,2', 'based', 'on', '2\\xa0644\\xa0821', 'user', 'ratings']"
      ]
     },
     "execution_count": 74,
     "metadata": {},
     "output_type": "execute_result"
    }
   ],
   "source": [
    "rows[0].find(\"td\", class_=\"ratingColumn\").find(\"strong\").get(\"title\").split(\" \")"
   ]
  },
  {
   "cell_type": "code",
   "execution_count": 75,
   "id": "22df4f26",
   "metadata": {},
   "outputs": [
    {
     "data": {
      "text/plain": [
       "'2\\xa0644\\xa0821'"
      ]
     },
     "execution_count": 75,
     "metadata": {},
     "output_type": "execute_result"
    }
   ],
   "source": [
    "rows[0].find(\"td\", class_=\"ratingColumn\").find(\"strong\").get(\"title\").split(\" \")[-3]"
   ]
  },
  {
   "cell_type": "code",
   "execution_count": 76,
   "id": "fc656f24",
   "metadata": {},
   "outputs": [
    {
     "data": {
      "text/plain": [
       "'2644821'"
      ]
     },
     "execution_count": 76,
     "metadata": {},
     "output_type": "execute_result"
    }
   ],
   "source": [
    "rows[0].find(\"td\", class_=\"ratingColumn\").find(\"strong\").get(\"title\").split(\" \")[-3].replace(\"\\xa0\",\"\")"
   ]
  },
  {
   "cell_type": "markdown",
   "id": "9b3d2d20",
   "metadata": {},
   "source": [
    "## result"
   ]
  },
  {
   "cell_type": "code",
   "execution_count": 77,
   "id": "280fce43",
   "metadata": {},
   "outputs": [],
   "source": [
    "result=[]\n",
    "for row in rows:\n",
    "    ranking = row.find(\"span\").get(\"data-value\")\n",
    "    rating = row.find_all(\"span\")[1].get(\"data-value\")\n",
    "    title = row.find(\"td\", class_=\"titleColumn\").find(\"a\").text.strip()\n",
    "    year = row.find(\"td\", class_=\"titleColumn\").find(\"span\", class_=\"secondaryInfo\").text.strip()[1:-1]\n",
    "    link= \"http://imdb.com\"+row.find(\"td\", class_=\"titleColumn\").find(\"a\").get(\"href\")\n",
    "    users= row.find(\"td\", class_=\"ratingColumn\").find(\"strong\").get(\"title\").split(\" \")[-3].replace(\"\\xa0\",\"\")\n",
    "    \n",
    "    result.append({\"ranking\":ranking, \"rating\":rating, \"title\":title, \"year\":year, \"link\":link, \"users\":users})\n"
   ]
  },
  {
   "cell_type": "code",
   "execution_count": 78,
   "id": "4ac6f217",
   "metadata": {},
   "outputs": [
    {
     "data": {
      "text/html": [
       "<div>\n",
       "<style scoped>\n",
       "    .dataframe tbody tr th:only-of-type {\n",
       "        vertical-align: middle;\n",
       "    }\n",
       "\n",
       "    .dataframe tbody tr th {\n",
       "        vertical-align: top;\n",
       "    }\n",
       "\n",
       "    .dataframe thead th {\n",
       "        text-align: right;\n",
       "    }\n",
       "</style>\n",
       "<table border=\"1\" class=\"dataframe\">\n",
       "  <thead>\n",
       "    <tr style=\"text-align: right;\">\n",
       "      <th></th>\n",
       "      <th>ranking</th>\n",
       "      <th>rating</th>\n",
       "      <th>title</th>\n",
       "      <th>year</th>\n",
       "      <th>link</th>\n",
       "      <th>users</th>\n",
       "    </tr>\n",
       "  </thead>\n",
       "  <tbody>\n",
       "    <tr>\n",
       "      <th>0</th>\n",
       "      <td>1</td>\n",
       "      <td>9.234737469237281</td>\n",
       "      <td>Skazani na Shawshank</td>\n",
       "      <td>1994</td>\n",
       "      <td>http://imdb.com/title/tt0111161/?pf_rd_m=A2FGE...</td>\n",
       "      <td>2644821</td>\n",
       "    </tr>\n",
       "    <tr>\n",
       "      <th>1</th>\n",
       "      <td>2</td>\n",
       "      <td>9.156369223151822</td>\n",
       "      <td>Ojciec chrzestny</td>\n",
       "      <td>1972</td>\n",
       "      <td>http://imdb.com/title/tt0068646/?pf_rd_m=A2FGE...</td>\n",
       "      <td>1833393</td>\n",
       "    </tr>\n",
       "    <tr>\n",
       "      <th>2</th>\n",
       "      <td>3</td>\n",
       "      <td>8.98808100882081</td>\n",
       "      <td>Mroczny Rycerz</td>\n",
       "      <td>2008</td>\n",
       "      <td>http://imdb.com/title/tt0468569/?pf_rd_m=A2FGE...</td>\n",
       "      <td>2616665</td>\n",
       "    </tr>\n",
       "    <tr>\n",
       "      <th>3</th>\n",
       "      <td>4</td>\n",
       "      <td>8.984299842785916</td>\n",
       "      <td>Ojciec chrzestny II</td>\n",
       "      <td>1974</td>\n",
       "      <td>http://imdb.com/title/tt0071562/?pf_rd_m=A2FGE...</td>\n",
       "      <td>1256638</td>\n",
       "    </tr>\n",
       "    <tr>\n",
       "      <th>4</th>\n",
       "      <td>5</td>\n",
       "      <td>8.949719243655405</td>\n",
       "      <td>Dwunastu gniewnych ludzi</td>\n",
       "      <td>1957</td>\n",
       "      <td>http://imdb.com/title/tt0050083/?pf_rd_m=A2FGE...</td>\n",
       "      <td>780894</td>\n",
       "    </tr>\n",
       "    <tr>\n",
       "      <th>...</th>\n",
       "      <td>...</td>\n",
       "      <td>...</td>\n",
       "      <td>...</td>\n",
       "      <td>...</td>\n",
       "      <td>...</td>\n",
       "      <td>...</td>\n",
       "    </tr>\n",
       "    <tr>\n",
       "      <th>245</th>\n",
       "      <td>246</td>\n",
       "      <td>8.008870784179829</td>\n",
       "      <td>Dersu Uzała</td>\n",
       "      <td>1975</td>\n",
       "      <td>http://imdb.com/title/tt0071411/?pf_rd_m=A2FGE...</td>\n",
       "      <td>29627</td>\n",
       "    </tr>\n",
       "    <tr>\n",
       "      <th>246</th>\n",
       "      <td>247</td>\n",
       "      <td>8.005689423877584</td>\n",
       "      <td>Aladyn</td>\n",
       "      <td>1992</td>\n",
       "      <td>http://imdb.com/title/tt0103639/?pf_rd_m=A2FGE...</td>\n",
       "      <td>415492</td>\n",
       "    </tr>\n",
       "    <tr>\n",
       "      <th>247</th>\n",
       "      <td>248</td>\n",
       "      <td>8.005176992763703</td>\n",
       "      <td>Gandhi</td>\n",
       "      <td>1982</td>\n",
       "      <td>http://imdb.com/title/tt0083987/?pf_rd_m=A2FGE...</td>\n",
       "      <td>231225</td>\n",
       "    </tr>\n",
       "    <tr>\n",
       "      <th>248</th>\n",
       "      <td>249</td>\n",
       "      <td>8.005005541149567</td>\n",
       "      <td>Służące</td>\n",
       "      <td>2011</td>\n",
       "      <td>http://imdb.com/title/tt1454029/?pf_rd_m=A2FGE...</td>\n",
       "      <td>456877</td>\n",
       "    </tr>\n",
       "    <tr>\n",
       "      <th>249</th>\n",
       "      <td>250</td>\n",
       "      <td>8.003149011358737</td>\n",
       "      <td>Stalowy gigant</td>\n",
       "      <td>1999</td>\n",
       "      <td>http://imdb.com/title/tt0129167/?pf_rd_m=A2FGE...</td>\n",
       "      <td>194945</td>\n",
       "    </tr>\n",
       "  </tbody>\n",
       "</table>\n",
       "<p>250 rows × 6 columns</p>\n",
       "</div>"
      ],
      "text/plain": [
       "    ranking             rating                     title  year  \\\n",
       "0         1  9.234737469237281      Skazani na Shawshank  1994   \n",
       "1         2  9.156369223151822          Ojciec chrzestny  1972   \n",
       "2         3   8.98808100882081            Mroczny Rycerz  2008   \n",
       "3         4  8.984299842785916       Ojciec chrzestny II  1974   \n",
       "4         5  8.949719243655405  Dwunastu gniewnych ludzi  1957   \n",
       "..      ...                ...                       ...   ...   \n",
       "245     246  8.008870784179829               Dersu Uzała  1975   \n",
       "246     247  8.005689423877584                    Aladyn  1992   \n",
       "247     248  8.005176992763703                    Gandhi  1982   \n",
       "248     249  8.005005541149567                   Służące  2011   \n",
       "249     250  8.003149011358737            Stalowy gigant  1999   \n",
       "\n",
       "                                                  link    users  \n",
       "0    http://imdb.com/title/tt0111161/?pf_rd_m=A2FGE...  2644821  \n",
       "1    http://imdb.com/title/tt0068646/?pf_rd_m=A2FGE...  1833393  \n",
       "2    http://imdb.com/title/tt0468569/?pf_rd_m=A2FGE...  2616665  \n",
       "3    http://imdb.com/title/tt0071562/?pf_rd_m=A2FGE...  1256638  \n",
       "4    http://imdb.com/title/tt0050083/?pf_rd_m=A2FGE...   780894  \n",
       "..                                                 ...      ...  \n",
       "245  http://imdb.com/title/tt0071411/?pf_rd_m=A2FGE...    29627  \n",
       "246  http://imdb.com/title/tt0103639/?pf_rd_m=A2FGE...   415492  \n",
       "247  http://imdb.com/title/tt0083987/?pf_rd_m=A2FGE...   231225  \n",
       "248  http://imdb.com/title/tt1454029/?pf_rd_m=A2FGE...   456877  \n",
       "249  http://imdb.com/title/tt0129167/?pf_rd_m=A2FGE...   194945  \n",
       "\n",
       "[250 rows x 6 columns]"
      ]
     },
     "execution_count": 78,
     "metadata": {},
     "output_type": "execute_result"
    }
   ],
   "source": [
    "df_result=pd.DataFrame(result)\n",
    "df_result"
   ]
  },
  {
   "cell_type": "code",
   "execution_count": null,
   "id": "d760a08b",
   "metadata": {},
   "outputs": [],
   "source": []
  }
 ],
 "metadata": {
  "kernelspec": {
   "display_name": "Python 3 (ipykernel)",
   "language": "python",
   "name": "python3"
  },
  "language_info": {
   "codemirror_mode": {
    "name": "ipython",
    "version": 3
   },
   "file_extension": ".py",
   "mimetype": "text/x-python",
   "name": "python",
   "nbconvert_exporter": "python",
   "pygments_lexer": "ipython3",
   "version": "3.9.7"
  }
 },
 "nbformat": 4,
 "nbformat_minor": 5
}
